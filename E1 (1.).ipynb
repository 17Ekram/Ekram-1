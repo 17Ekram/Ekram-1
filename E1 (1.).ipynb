{
 "cells": [
  {
   "cell_type": "code",
   "execution_count": 1,
   "id": "54ae3c48-04a3-410c-99d5-59b004bb833b",
   "metadata": {},
   "outputs": [],
   "source": [
    "#                  ASSIGNMENT 1\n",
    "\n",
    "'''1. Declare two variables, `x` and `y`, and assign them integer values. Swap the\n",
    "values of these variables without using any temporary variable.'''\n",
    "\n",
    "# 10 is store in x\n",
    "# y store two values 10 and 15 then sum is 25\n",
    "x = 10\n",
    "y = x+15"
   ]
  },
  {
   "cell_type": "code",
   "execution_count": 2,
   "id": "680778cf-5c6a-43f7-8efa-4989bc840604",
   "metadata": {},
   "outputs": [
    {
     "data": {
      "text/plain": [
       "25"
      ]
     },
     "execution_count": 2,
     "metadata": {},
     "output_type": "execute_result"
    }
   ],
   "source": [
    "y"
   ]
  },
  {
   "cell_type": "code",
   "execution_count": 3,
   "id": "4ff83c84-08f2-4767-82b9-a1df308f63a2",
   "metadata": {},
   "outputs": [],
   "source": [
    "# above y stored 25 then sum of y and 15 is 40 \n",
    "x = y+15"
   ]
  },
  {
   "cell_type": "code",
   "execution_count": 4,
   "id": "df0d57e4-9f0a-4539-beb0-4404a4a77f8f",
   "metadata": {},
   "outputs": [
    {
     "data": {
      "text/plain": [
       "40"
      ]
     },
     "execution_count": 4,
     "metadata": {},
     "output_type": "execute_result"
    }
   ],
   "source": [
    "x"
   ]
  },
  {
   "cell_type": "code",
   "execution_count": null,
   "id": "b2347316-a65c-4d76-81d2-3ba3cf5b1b07",
   "metadata": {},
   "outputs": [],
   "source": [
    "'''2. Create a program that calculates the area of a rectangle. Take the length and\n",
    "width as inputs from the user and store them in variables. Calculate and\n",
    "display the area.'''\n",
    "\n",
    "# int use to store integer value\n",
    "# input is store any type of value by the user \n",
    "# a and b are variable that store values \n",
    "a = int(input(\"Enter length of rectangle :-\"))\n",
    "b = int(input(\"Enter width of rectangle :-\"))\n",
    "# There is multiply of a and b which is called area of rectangle\n",
    "print(\"Area of rectangle =\", a*b)"
   ]
  },
  {
   "cell_type": "code",
   "execution_count": null,
   "id": "04e9332f-d1da-43ea-bd0e-d503c7a56e8e",
   "metadata": {},
   "outputs": [],
   "source": [
    "'''3. Write a Python program that converts temperatures from Celsius to\n",
    "Fahrenheit. Take the temperature in Celsius as input, store it in a variable,\n",
    "convert it to Fahrenheit, and display the result.'''\n",
    "\n",
    "c = int(input(\"Enter tempreture in celsius :-\"))\n",
    "# c is variable and below is formula of Fareheit and it is working like bordmas\n",
    "print(\"Tempreture in Farenheit =\" , c*9/5+32)"
   ]
  },
  {
   "cell_type": "code",
   "execution_count": null,
   "id": "a0167a7c-05ce-40d9-86bd-af701cdbc30d",
   "metadata": {},
   "outputs": [],
   "source": [
    "F = int(input(\"Enter tempreture in farenheit :-\"))\n",
    "print(\"Tempreture in Celsius =\", (F-32)*5/9)"
   ]
  },
  {
   "cell_type": "code",
   "execution_count": null,
   "id": "3e6c6ece-7851-4037-9f3c-44d4c239a3e2",
   "metadata": {},
   "outputs": [],
   "source": [
    "'''1. Write a Python program that takes a string as input and prints the length of\n",
    "the string.'''\n",
    "\n",
    "# input store values as string\n",
    "s = input(\"Enter anything :-\")\n",
    "print(s)\n",
    "print(\"Length of String = \", len(s))\n",
    "# len = length\n",
    "print(type(s))\n",
    "# type define nature of values like int, str, float etc."
   ]
  },
  {
   "cell_type": "code",
   "execution_count": null,
   "id": "82205c80-10f8-4206-a3b9-b1bf6467f0e6",
   "metadata": {},
   "outputs": [],
   "source": [
    "'''2. Create a program that takes a sentence from the user and counts the number\n",
    "of vowels (a, e, i, o, u) in the string.'''\n",
    "\n",
    "a = input(\"Enter words/sentences :-\")\n",
    "# lower function use for replace the CAPITALISE letter into small letter \n",
    "a = a.lower()\n",
    "# count use to check less condition of vowel\n",
    "count = 0\n",
    "# for is loop and j store all values of a \n",
    "for j in a:\n",
    "    # if is condition that identify vowel below\n",
    "    if j==\"a\" or j==\"e\" or j==\"i\" or j==\"o\" or j==\"u\":\n",
    "# if there is vowel then add number of vowel and then it will give final result\n",
    "        count += 1\n",
    "if count == 0:\n",
    "     print(\"There is no vowel :-\")\n",
    "else:\n",
    "    # there is concatenation of two string,  below count is string because input take value as string so, no need of str(count) it will generate error\n",
    "    print(\"Total number of vowel = \", + (count))"
   ]
  },
  {
   "cell_type": "code",
   "execution_count": null,
   "id": "1f660ff6-07e1-4ea7-a367-fd93b9d69fb9",
   "metadata": {},
   "outputs": [],
   "source": [
    "'''3. Given a string, reverse the order of characters using string slicing and print\n",
    "the reversed string.'''\n",
    "\n",
    "s = \"MY NAME IS MD EKRAM\"\n",
    "s = (s[ : :-1])\n",
    "print(s)"
   ]
  },
  {
   "cell_type": "code",
   "execution_count": null,
   "id": "81956441-806a-4759-8d0b-406a45c25be8",
   "metadata": {},
   "outputs": [],
   "source": [
    "s = input(\"Enter any word or sentences :-\")\n",
    "# -1 is reverse increament and : : it use blank for ifinite range for reverse print\n",
    "print(s[-1: :-1])\n",
    "print(s[0:9])\n",
    "print(s[0: :2])"
   ]
  },
  {
   "cell_type": "code",
   "execution_count": null,
   "id": "4a4b3b27-f48a-4e8f-b2bc-8b0e48f1400d",
   "metadata": {},
   "outputs": [],
   "source": [
    "'''4. Write a program that takes a string as input and checks if it is a palindrome\n",
    "(reads the same forwards and backwards).'''\n",
    "\n",
    "q = input(\"Enter Word/Sentences :-\")\n",
    "q = q.lower()\n",
    "print(q)\n",
    "# x taken as new variable and show it reversing order of q\n",
    "x = q[ : :-1]\n",
    "if q == x:\n",
    "    print(\"It is palindrome\")\n",
    "else:\n",
    "    print(\"It is not palindrome\")"
   ]
  },
  {
   "cell_type": "code",
   "execution_count": null,
   "id": "a64f378d-0328-4305-8817-ec54d2478559",
   "metadata": {},
   "outputs": [],
   "source": [
    "'''5. Create a program that takes a string as input and removes all the spaces from\n",
    "it. Print the modified string without spaces.'''\n",
    "\n",
    "t = input(\"Enter Sentences :-\")\n",
    "# replace use to remove own desire\n",
    "y = t.replace(\" \",\"\")\n",
    "print(t)\n",
    "print(y)"
   ]
  },
  {
   "cell_type": "code",
   "execution_count": null,
   "id": "f49398f8-0be4-4d87-80e7-61b140bd0b86",
   "metadata": {},
   "outputs": [],
   "source": []
  },
  {
   "cell_type": "code",
   "execution_count": null,
   "id": "a21e7ca1-76e8-403c-81f0-5ad85c91355a",
   "metadata": {},
   "outputs": [],
   "source": []
  }
 ],
 "metadata": {
  "kernelspec": {
   "display_name": "Python 3 (ipykernel)",
   "language": "python",
   "name": "python3"
  },
  "language_info": {
   "codemirror_mode": {
    "name": "ipython",
    "version": 3
   },
   "file_extension": ".py",
   "mimetype": "text/x-python",
   "name": "python",
   "nbconvert_exporter": "python",
   "pygments_lexer": "ipython3",
   "version": "3.10.8"
  }
 },
 "nbformat": 4,
 "nbformat_minor": 5
}
